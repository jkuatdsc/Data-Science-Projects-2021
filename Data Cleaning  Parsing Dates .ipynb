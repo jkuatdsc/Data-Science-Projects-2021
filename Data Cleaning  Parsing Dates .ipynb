{
 "cells": [
  {
   "cell_type": "code",
   "execution_count": 1,
   "metadata": {},
   "outputs": [],
   "source": [
    "# Import the required libraries: Pandas, Numpy, Matplotlib and   Seaborn\n",
    "\n",
    "import pandas as pd          \n",
    "import numpy as np \n",
    "import datetime\n",
    "import seaborn as sns # For mathematical calculations\n",
    "import matplotlib.pyplot as plt  # For plotting graphs\n",
    "from datetime import datetime    # To access datetime\n",
    "from pandas import Series # To work on series\n",
    "%matplotlib inline\n",
    "import warnings                   # To ignore the warnings\n",
    "warnings.filterwarnings(\"ignore\")\n"
   ]
  },
  {
   "cell_type": "code",
   "execution_count": 4,
   "metadata": {},
   "outputs": [],
   "source": []
  },
  {
   "cell_type": "code",
   "execution_count": 2,
   "metadata": {},
   "outputs": [
    {
     "name": "stdout",
     "output_type": "stream",
     "text": [
      "<class 'pandas.core.frame.DataFrame'>\n",
      "RangeIndex: 1693 entries, 0 to 1692\n",
      "Data columns (total 23 columns):\n",
      " #   Column                Non-Null Count  Dtype  \n",
      "---  ------                --------------  -----  \n",
      " 0   id                    1693 non-null   int64  \n",
      " 1   date                  1690 non-null   object \n",
      " 2   time                  629 non-null    object \n",
      " 3   continent_code        164 non-null    object \n",
      " 4   country_name          1693 non-null   object \n",
      " 5   country_code          1693 non-null   object \n",
      " 6   state/province        1692 non-null   object \n",
      " 7   population            1693 non-null   int64  \n",
      " 8   city/town             1689 non-null   object \n",
      " 9   distance              1692 non-null   float64\n",
      " 10  location_description  551 non-null    object \n",
      " 11  latitude              1692 non-null   float64\n",
      " 12  longitude             1692 non-null   float64\n",
      " 13  geolocation           1692 non-null   object \n",
      " 14  hazard_type           1693 non-null   object \n",
      " 15  landslide_type        1692 non-null   object \n",
      " 16  landslide_size        1692 non-null   object \n",
      " 17  trigger               1691 non-null   object \n",
      " 18  storm_name            132 non-null    object \n",
      " 19  injuries              515 non-null    float64\n",
      " 20  fatalities            1446 non-null   float64\n",
      " 21  source_name           872 non-null    object \n",
      " 22  source_link           1593 non-null   object \n",
      "dtypes: float64(5), int64(2), object(16)\n",
      "memory usage: 304.3+ KB\n"
     ]
    }
   ],
   "source": [
    "\n",
    "# Load and read the data from the Dataset\n",
    "\n",
    "df=pd.read_csv(\"catalog.csv\",encoding = \"ISO-8859-1\")\n",
    "df.info()"
   ]
  },
  {
   "cell_type": "code",
   "execution_count": 3,
   "metadata": {},
   "outputs": [
    {
     "data": {
      "text/plain": [
       "0     3/2/07\n",
       "1    3/22/07\n",
       "2     4/6/07\n",
       "3    4/14/07\n",
       "4    4/15/07\n",
       "Name: date, dtype: object"
      ]
     },
     "execution_count": 3,
     "metadata": {},
     "output_type": "execute_result"
    }
   ],
   "source": [
    "# Check the data type of our date column\n",
    "\n",
    "# Print the first few rows of the date column\n",
    "\n",
    "a=(df['date'].head())\n",
    "a"
   ]
  },
  {
   "cell_type": "code",
   "execution_count": 4,
   "metadata": {},
   "outputs": [
    {
     "data": {
      "text/plain": [
       "dtype('O')"
      ]
     },
     "execution_count": 4,
     "metadata": {},
     "output_type": "execute_result"
    }
   ],
   "source": [
    "# check the data type of our date column\n",
    "\n",
    "c=df['date'].dtype\n",
    "c\n"
   ]
  },
  {
   "cell_type": "code",
   "execution_count": 5,
   "metadata": {},
   "outputs": [
    {
     "name": "stdout",
     "output_type": "stream",
     "text": [
      "0      NaT\n",
      "1      NaT\n",
      "2      NaT\n",
      "3      NaT\n",
      "4      NaT\n",
      "        ..\n",
      "1688   NaT\n",
      "1689   NaT\n",
      "1690   NaT\n",
      "1691   NaT\n",
      "1692   NaT\n",
      "Name: date, Length: 1693, dtype: datetime64[ns]\n",
      "0        3/2/07\n",
      "1       3/22/07\n",
      "2        4/6/07\n",
      "3       4/14/07\n",
      "4       4/15/07\n",
      "         ...   \n",
      "1688    12/7/15\n",
      "1689    2/22/16\n",
      "1690    2/23/16\n",
      "1691    2/26/16\n",
      "1692     3/2/16\n",
      "Name: date, Length: 1693, dtype: object\n"
     ]
    }
   ],
   "source": [
    "# Finding  the data column rows that are throwing errors\n",
    "\n",
    "print(pd.to_datetime(df['date'], errors='coerce', format=\"%m/%d/%Y\"))\n",
    "mask = pd.to_datetime(df['date'], errors='coerce', format=\"%m/%d/%Y\").isnull()\n",
    "print (df['date'][mask])\n"
   ]
  },
  {
   "cell_type": "code",
   "execution_count": 6,
   "metadata": {},
   "outputs": [
    {
     "data": {
      "text/plain": [
       "682    2011-04-30\n",
       "1475   2015-06-27\n",
       "Name: date, dtype: datetime64[ns]"
      ]
     },
     "execution_count": 6,
     "metadata": {},
     "output_type": "execute_result"
    }
   ],
   "source": [
    "# Convert our date columns to data time 1\n",
    "\n",
    "d=df['date'] = pd.to_datetime(df['date'])\n",
    "d.sample(2)"
   ]
  },
  {
   "cell_type": "markdown",
   "metadata": {},
   "source": [
    "Convert our date columns to datetime"
   ]
  },
  {
   "cell_type": "code",
   "execution_count": 7,
   "metadata": {},
   "outputs": [
    {
     "data": {
      "text/plain": [
       "796    2011-07-21\n",
       "164    2008-11-20\n",
       "1091   2013-08-23\n",
       "Name: date, dtype: datetime64[ns]"
      ]
     },
     "execution_count": 7,
     "metadata": {},
     "output_type": "execute_result"
    }
   ],
   "source": [
    "# Convert our date columns to datetime\n",
    "# Now that we know that our date column isn't being recognized as a date, it's time to convert it so that it is recognized as a date. This is called \"parsing dates\" because we're taking in a string and identifying its component parts.\n",
    "\n",
    "# Create a new column, date_parsed, with the parsed dates\n",
    "\n",
    "g=df['date_parsed'] = pd.to_datetime(df['date'], format = \"%m/%d/%y\")\n",
    "g.sample(3)\n",
    "\n"
   ]
  },
  {
   "cell_type": "code",
   "execution_count": 8,
   "metadata": {},
   "outputs": [
    {
     "data": {
      "text/plain": [
       "0   2007-03-02\n",
       "1   2007-03-22\n",
       "2   2007-04-06\n",
       "3   2007-04-14\n",
       "4   2007-04-15\n",
       "Name: date_parsed, dtype: datetime64[ns]"
      ]
     },
     "execution_count": 8,
     "metadata": {},
     "output_type": "execute_result"
    }
   ],
   "source": [
    "# Check the first few rows of the new date column\n",
    "# The dates have been re_arranged to fit their default  order datetime objects(year, month, day)\n",
    "\n",
    "z=df['date_parsed'].head()\n",
    "z\n",
    "# We  have succesfully parsed our date column"
   ]
  },
  {
   "cell_type": "code",
   "execution_count": 9,
   "metadata": {},
   "outputs": [
    {
     "data": {
      "text/plain": [
       "dtype('<M8[ns]')"
      ]
     },
     "execution_count": 9,
     "metadata": {},
     "output_type": "execute_result"
    }
   ],
   "source": [
    "# check the data type of our our parsed date column\n",
    "\n",
    "df['date_parsed'].dtype"
   ]
  },
  {
   "cell_type": "markdown",
   "metadata": {},
   "source": [
    "What if I run into an error with multiple date formats? While we're specifying the date format here, sometimes you'll run into an error when there are multiple date formats in a single column. If that happens, you have have pandas try to infer what the right date format should be. You can do that like so:"
   ]
  },
  {
   "cell_type": "code",
   "execution_count": 10,
   "metadata": {},
   "outputs": [],
   "source": [
    "\n",
    "# Infer the date  format in pandas\n",
    "\n",
    "df['date_parsed'] = pd.to_datetime(df['date'], infer_datetime_format=True)\n",
    "\n"
   ]
  },
  {
   "cell_type": "markdown",
   "metadata": {},
   "source": [
    "Why don't you always use infer_datetime_format = True? There are two big reasons not to always have pandas guess the time format. The first is that pandas won't always been able to figure out the correct date format, especially if someone has gotten creative with data entry. The second is that it's much slower than specifying the exact format of the dates.\n"
   ]
  },
  {
   "cell_type": "code",
   "execution_count": 11,
   "metadata": {},
   "outputs": [
    {
     "data": {
      "text/plain": [
       "257      5.0\n",
       "1401    27.0\n",
       "427     28.0\n",
       "Name: date_parsed, dtype: float64"
      ]
     },
     "execution_count": 11,
     "metadata": {},
     "output_type": "execute_result"
    }
   ],
   "source": [
    "# Select just the day of the month from our column\n",
    "\n",
    "# get the day of the month from the date_parsed column\n",
    "\n",
    "day_of_month_df= df['date_parsed'].dt.day\n",
    "day_of_month_df.sample(3)\n"
   ]
  },
  {
   "cell_type": "code",
   "execution_count": 12,
   "metadata": {},
   "outputs": [
    {
     "data": {
      "text/plain": [
       "1387    25.0\n",
       "991     17.0\n",
       "1234    30.0\n",
       "Name: date_parsed, dtype: float64"
      ]
     },
     "execution_count": 12,
     "metadata": {},
     "output_type": "execute_result"
    }
   ],
   "source": [
    "# Plot the day of the month to check the date parsing\n",
    "\n",
    "# remove na's\n",
    "day_of_month_df123 = day_of_month_df.dropna()\n",
    "day_of_month_df123.sample(3)"
   ]
  },
  {
   "cell_type": "code",
   "execution_count": 13,
   "metadata": {},
   "outputs": [
    {
     "data": {
      "text/plain": [
       "<AxesSubplot:xlabel='date_parsed'>"
      ]
     },
     "execution_count": 13,
     "metadata": {},
     "output_type": "execute_result"
    },
    {
     "data": {
      "image/png": "[encoded data removed]",
      "text/plain": [
       "<Figure size 432x288 with 1 Axes>"
      ]
     },
     "metadata": {
      "needs_background": "light"
     },
     "output_type": "display_data"
    }
   ],
   "source": [
    "# Plot the day of the month using the day of the month after removing the Missing Nans Values in the parsed date time column\n",
    "\n",
    "sns.distplot(day_of_month_df123, kde=False, bins=31)\n"
   ]
  },
  {
   "cell_type": "markdown",
   "metadata": {},
   "source": [
    "Congratulations, we have parsed our dates correctly and the graph makes good sense\n",
    "\n"
   ]
  }
 ],
 "metadata": {
  "kernelspec": {
   "display_name": "Python 3",
   "language": "python",
   "name": "python3"
  },
  "language_info": {
   "codemirror_mode": {
    "name": "ipython",
    "version": 3
   },
   "file_extension": ".py",
   "mimetype": "text/x-python",
   "name": "python",
   "nbconvert_exporter": "python",
   "pygments_lexer": "ipython3",
   "version": "3.8.5"
  }
 },
 "nbformat": 4,
 "nbformat_minor": 2
}
